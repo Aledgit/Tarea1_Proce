{
 "cells": [
  {
   "cell_type": "code",
   "execution_count": 1,
   "metadata": {},
   "outputs": [],
   "source": [
    "from datasketch import MinHash, MinHashLSH\n",
    "import pandas as pd\n",
    "from math import ceil\n",
    "from IPython.display import display_html "
   ]
  },
  {
   "cell_type": "code",
   "execution_count": 2,
   "metadata": {},
   "outputs": [],
   "source": [
    "data = pd.read_csv('tweets_2022_abril_junio.csv')"
   ]
  },
  {
   "attachments": {},
   "cell_type": "markdown",
   "metadata": {},
   "source": [
    "#### Funcion para obtener los shingles de cada tweet"
   ]
  },
  {
   "cell_type": "code",
   "execution_count": 3,
   "metadata": {},
   "outputs": [],
   "source": [
    "def get_shingles(text, k):\n",
    "    shingles = []\n",
    "    for i in range(len(text)-k+1):\n",
    "        shingles.append(text[i:i+k].replace('\\n', ' '))\n",
    "    return tuple(shingles)"
   ]
  },
  {
   "attachments": {},
   "cell_type": "markdown",
   "metadata": {},
   "source": [
    "### Preprocesamiento de los datos y limpieza de datos"
   ]
  },
  {
   "cell_type": "code",
   "execution_count": 4,
   "metadata": {},
   "outputs": [],
   "source": [
    "#Filtrar el texto\n",
    "data = data[data['text'].str.contains('RT') == False]\n",
    "\n",
    "#Dropear columnas innecesarias\n",
    "data = data.drop(['favorite_count', 'retweet_count', 'created_at'], axis=1)\n",
    "\n",
    "#Dropear posibles filas duplicadas\n",
    "data = data.drop_duplicates()\n",
    "\n",
    "#Pasar los tweets a shingles\n",
    "data['shingles'] = data.apply(lambda row: get_shingles(row['text'], 4), axis=1)\n",
    "\n",
    "#Filtrar el dataframe eliminando las columnas que tengan shingles vacios\n",
    "data = data[data['shingles'].apply(lambda x: len(x) > 0)]"
   ]
  },
  {
   "cell_type": "code",
   "execution_count": 5,
   "metadata": {},
   "outputs": [],
   "source": [
    "# df que se usara mas adelante para revisar los tweets de cada usuario\n",
    "usuarios = data.groupby('screen_name', as_index=False).agg({'id': lambda x: list(x)})\n",
    "\n",
    "# lista de tuplas que se usara para calcular los minhashes\n",
    "tweets = list(zip(data.id, data.screen_name, data.shingles))"
   ]
  },
  {
   "attachments": {},
   "cell_type": "markdown",
   "metadata": {},
   "source": [
    "### Crear los minhashes y el lsh con las clases importadas de datasketch"
   ]
  },
  {
   "cell_type": "code",
   "execution_count": 6,
   "metadata": {},
   "outputs": [],
   "source": [
    "# Los minhashes calculados se guardaran en un diccionario para despues poder acceder a estos sin problema\n",
    "minhashes = dict()\n",
    "for tweet in tweets:\n",
    "    minhash = MinHash(num_perm=64)\n",
    "    for shingle in tweet[2]:\n",
    "        minhash.update(shingle.encode('utf8'))\n",
    "    minhashes[tweet[0]] = [minhash, tweet[1]]"
   ]
  },
  {
   "cell_type": "code",
   "execution_count": 7,
   "metadata": {},
   "outputs": [],
   "source": [
    "# Se instancia la clase MinHashLSH con nuestro threshold definido\n",
    "lsh = MinHashLSH(threshold=0.8, num_perm=64)\n",
    "for key in minhashes:\n",
    "    lsh.insert((key, minhashes[key][1]), minhashes[key][0])"
   ]
  },
  {
   "attachments": {},
   "cell_type": "markdown",
   "metadata": {},
   "source": [
    "#### Definicion de funcion get_count()"
   ]
  },
  {
   "cell_type": "code",
   "execution_count": 8,
   "metadata": {},
   "outputs": [],
   "source": [
    "def get_count(fila, user):\n",
    "    n = 0\n",
    "    for item in fila:\n",
    "        if user in item:\n",
    "            n += 1\n",
    "    return n"
   ]
  },
  {
   "attachments": {},
   "cell_type": "markdown",
   "metadata": {},
   "source": [
    "#### Crear un diccionario que nos servira para revisar la cantidad de tweets por persona"
   ]
  },
  {
   "cell_type": "code",
   "execution_count": 9,
   "metadata": {},
   "outputs": [],
   "source": [
    "counts = data.groupby('screen_name')['text'].count()\n",
    "cant_tweets = counts.to_dict()"
   ]
  },
  {
   "attachments": {},
   "cell_type": "markdown",
   "metadata": {},
   "source": [
    "### Codigo de comparacion de usuarios\n",
    "##### En la siguiente celda de codigo se comparan todos los tweets de un usuario con todos sus tweets parecidos resultantes del lsh para despues guardar el usuario al cual pertenece el tweet. Definimos la variable THRESHOLD la cual representa el porcentaje minimo de tweets los cuales tienen que ser similares a tweets de otro usuario para ser considerado como un usuario similar. Por ejemplo si un usuario tiene 100 tweets, otro con 50 tweets y se setea un threshold de 0.4 entonces el primer usuario tiene que tener por lo menos 40 tweets parecidos al segundo usuario y el segundo usuario tiene que tener por lo menos 20 tweets parecidos al primer usuario, si se cumplen estas 2 condiciones entonces se consideran usuarios similares."
   ]
  },
  {
   "cell_type": "code",
   "execution_count": 75,
   "metadata": {},
   "outputs": [],
   "source": [
    "# setear porcentaje de tweets minimos para considerar que 2 usuarios son similares\n",
    "THRESHOLD = 0.35\n",
    "\n",
    "# A este diccionario y set se le insertaran los output de usuarios similares\n",
    "usuarios_final = dict() # Tendra 1 usuario como llave y como value tendra una lista de usuarios los cuales se consideran similares\n",
    "mega_set = set() # Tendra tuplas de pares de usuarios los cuales se consideran similares\n",
    "\n",
    "\n",
    "for i, row in usuarios.iterrows():\n",
    "    fila = []\n",
    "    set_similares = set()\n",
    "    usuario = row[0]\n",
    "    ids = row[1]\n",
    "\n",
    "\n",
    "    # Definir que int es el threshold a superar\n",
    "    threshold_usuario = ceil(cant_tweets[usuario] * THRESHOLD)\n",
    "    usuarios_final[usuario] = list()\n",
    "    set_comparaciones = set()\n",
    "    uniques_count = dict()\n",
    "\n",
    "    # Recorrer las ids de los tweets de un usuario\n",
    "    for id_ in ids:\n",
    "        temp_set = set()\n",
    "        result = lsh.query(minhashes[id_][0])\n",
    "        appaered = []\n",
    "\n",
    "        # Recorrer las tuplas de posibles tweets parecidos que tienen la forma (id, usuario)\n",
    "        for tupla in result:\n",
    "            usuario2 = tupla[1]\n",
    "            id_usuario2 = tupla[0]\n",
    "\n",
    "            if usuario2 == usuario:\n",
    "                continue\n",
    "            \n",
    "            if usuario2 not in set_comparaciones:\n",
    "                set_comparaciones.add(usuario2)\n",
    "                uniques_count[usuario2] = []\n",
    "\n",
    "            if usuario2 not in appaered:\n",
    "                appaered.append(usuario2)\n",
    "                if id_usuario2 not in uniques_count[usuario2]:\n",
    "                    uniques_count[usuario2].append(id_usuario2)\n",
    "\n",
    "            temp_set.add(usuario2)\n",
    "\n",
    "        fila.append(temp_set)\n",
    "        set_similares = set_similares.union(temp_set)\n",
    "\n",
    "    # Revisar los usuarios en el set de posibles similares\n",
    "    for el in set_similares:\n",
    "\n",
    "        # Ver cuantas veces aparece en la lista fila y definir un int como threshold para ese usuario\n",
    "        cuenta = get_count(fila, el)\n",
    "        tweets_unicos = len(uniques_count[el])\n",
    "        threshold_comparacion = ceil(cant_tweets[el] * THRESHOLD)\n",
    "\n",
    "        # Revisar si efectivamente se cumple con el threshold \n",
    "        if cuenta >= threshold_usuario and tweets_unicos >= threshold_comparacion:\n",
    "            \n",
    "            # Appendear el usuario similar al diccionario y al set\n",
    "            usuarios_final[usuario].append(el)\n",
    "            tup = tuple(sorted((usuario, el)))\n",
    "            mega_set.add(tup)\n",
    "\n",
    "    # En caso de que el diccionario[key] este vacio se eliminara para no molestar\n",
    "    if len(usuarios_final[usuario]) == 0:\n",
    "        del usuarios_final[usuario]"
   ]
  },
  {
   "attachments": {},
   "cell_type": "markdown",
   "metadata": {},
   "source": [
    "##### Hubieron hartos casos que se salian del molde \"normal\" al momento de conseguir usuarios parecidos. Nos encontramos con usuarios que se consideran parecidos aunque estos tengan solo un tweet, los cuales dejamos pasar. Tambien encontramos usuarios que tenian 1 tweet parecido a varios tweets distintos de otro usuario, al principio esto nos daba que los usuarios eran parecidos pero lo logramos arreglar implementando sets de usuarios parecidos por cada tweet del usuario principal."
   ]
  },
  {
   "attachments": {},
   "cell_type": "markdown",
   "metadata": {},
   "source": [
    "### Se puede pasar la data que tenemos de los pares de usuarios parecidos a un dataframe para visualizarla mejor"
   ]
  },
  {
   "cell_type": "code",
   "execution_count": 76,
   "metadata": {},
   "outputs": [
    {
     "data": {
      "text/html": [
       "<div>\n",
       "<style scoped>\n",
       "    .dataframe tbody tr th:only-of-type {\n",
       "        vertical-align: middle;\n",
       "    }\n",
       "\n",
       "    .dataframe tbody tr th {\n",
       "        vertical-align: top;\n",
       "    }\n",
       "\n",
       "    .dataframe thead th {\n",
       "        text-align: right;\n",
       "    }\n",
       "</style>\n",
       "<table border=\"1\" class=\"dataframe\">\n",
       "  <thead>\n",
       "    <tr style=\"text-align: right;\">\n",
       "      <th></th>\n",
       "      <th>Usuario1</th>\n",
       "      <th>Usuario2</th>\n",
       "    </tr>\n",
       "  </thead>\n",
       "  <tbody>\n",
       "    <tr>\n",
       "      <th>0</th>\n",
       "      <td>Ezequielabogado</td>\n",
       "      <td>yerko368</td>\n",
       "    </tr>\n",
       "    <tr>\n",
       "      <th>1</th>\n",
       "      <td>Oscar270711</td>\n",
       "      <td>fsereyg</td>\n",
       "    </tr>\n",
       "    <tr>\n",
       "      <th>2</th>\n",
       "      <td>AntuuneezSeba</td>\n",
       "      <td>victor_sepescud</td>\n",
       "    </tr>\n",
       "    <tr>\n",
       "      <th>3</th>\n",
       "      <td>ChaniRayen</td>\n",
       "      <td>mjvrcase</td>\n",
       "    </tr>\n",
       "    <tr>\n",
       "      <th>4</th>\n",
       "      <td>hespinosa71</td>\n",
       "      <td>odiliajborje</td>\n",
       "    </tr>\n",
       "    <tr>\n",
       "      <th>...</th>\n",
       "      <td>...</td>\n",
       "      <td>...</td>\n",
       "    </tr>\n",
       "    <tr>\n",
       "      <th>16781</th>\n",
       "      <td>chacoprensaok</td>\n",
       "      <td>cn38ok</td>\n",
       "    </tr>\n",
       "    <tr>\n",
       "      <th>16782</th>\n",
       "      <td>ipakankure</td>\n",
       "      <td>javierledesmare</td>\n",
       "    </tr>\n",
       "    <tr>\n",
       "      <th>16783</th>\n",
       "      <td>lasargiento</td>\n",
       "      <td>sheylaarones</td>\n",
       "    </tr>\n",
       "    <tr>\n",
       "      <th>16784</th>\n",
       "      <td>PaulaRosso7</td>\n",
       "      <td>RosaElenaLFlore</td>\n",
       "    </tr>\n",
       "    <tr>\n",
       "      <th>16785</th>\n",
       "      <td>DuranEdelmira</td>\n",
       "      <td>ZaydaOrtizA</td>\n",
       "    </tr>\n",
       "  </tbody>\n",
       "</table>\n",
       "<p>16786 rows × 2 columns</p>\n",
       "</div>"
      ],
      "text/plain": [
       "              Usuario1         Usuario2\n",
       "0      Ezequielabogado         yerko368\n",
       "1          Oscar270711          fsereyg\n",
       "2        AntuuneezSeba  victor_sepescud\n",
       "3           ChaniRayen         mjvrcase\n",
       "4          hespinosa71     odiliajborje\n",
       "...                ...              ...\n",
       "16781    chacoprensaok           cn38ok\n",
       "16782       ipakankure  javierledesmare\n",
       "16783      lasargiento     sheylaarones\n",
       "16784      PaulaRosso7  RosaElenaLFlore\n",
       "16785    DuranEdelmira      ZaydaOrtizA\n",
       "\n",
       "[16786 rows x 2 columns]"
      ]
     },
     "execution_count": 76,
     "metadata": {},
     "output_type": "execute_result"
    }
   ],
   "source": [
    "mega_set = list(mega_set)\n",
    "df_pares_parecidos = pd.DataFrame(mega_set, columns=['Usuario1', 'Usuario2'])\n",
    "df_pares_parecidos"
   ]
  },
  {
   "attachments": {},
   "cell_type": "markdown",
   "metadata": {},
   "source": [
    "### Se definen funciones para visualizar y comparar los tweets entre 2 usuarios parecidos"
   ]
  },
  {
   "cell_type": "code",
   "execution_count": 77,
   "metadata": {},
   "outputs": [],
   "source": [
    "# Funcion que simplemente retorna la lista de usuarios parecidos a un usuario\n",
    "def encontrar_parecidos(usuario):\n",
    "    parecidos = usuarios_final[usuario]\n",
    "    return parecidos\n",
    "\n",
    "# Funcion que compara dataframes de tweets entre 2 usuarios parecidos\n",
    "def obtener_tweets_entre_usuarios(usuario1, usuario2):\n",
    "    tweets_id1 = usuarios.loc[usuarios['screen_name'] == usuario1].values[0][1]\n",
    "    tweets_id2 = usuarios.loc[usuarios['screen_name'] == usuario2].values[0][1]\n",
    "    lista1 = []\n",
    "    lista2 = []\n",
    "    for id1 in tweets_id1:\n",
    "        tweet = data.loc[data['id'] == id1].values[0][2]\n",
    "        lista1.append(tweet)\n",
    "    for id2 in tweets_id2:\n",
    "        tweet = data.loc[data['id'] == id2].values[0][2]\n",
    "        lista2.append(tweet)\n",
    "\n",
    "    df1 = pd.DataFrame(lista1, columns=[f'Tweets'])\n",
    "    df2 = pd.DataFrame(lista2, columns=[f'Tweets'])\n",
    "\n",
    "    df1_styler = df1.style.set_table_attributes(\"style='display:inline'\").set_caption(usuario1)\n",
    "    df2_styler = df2.style.set_table_attributes(\"style='display:inline'\").set_caption(usuario2)\n",
    "    display_html(df1_styler._repr_html_()+df2_styler._repr_html_(), raw=True)\n",
    "    \n",
    "    # Se retornan los dataframes por si se quieren trabajar con mas detalle\n",
    "    return [df1, df2]"
   ]
  },
  {
   "attachments": {},
   "cell_type": "markdown",
   "metadata": {},
   "source": [
    "### Ejemplos"
   ]
  },
  {
   "attachments": {},
   "cell_type": "markdown",
   "metadata": {},
   "source": [
    "#### 1."
   ]
  },
  {
   "cell_type": "code",
   "execution_count": 78,
   "metadata": {},
   "outputs": [
    {
     "data": {
      "text/plain": [
       "['Elviracristi']"
      ]
     },
     "execution_count": 78,
     "metadata": {},
     "output_type": "execute_result"
    }
   ],
   "source": [
    "encontrar_parecidos('CarlosApruebo')"
   ]
  },
  {
   "attachments": {},
   "cell_type": "markdown",
   "metadata": {},
   "source": [
    "##### Vemos cuales usuarios son parecidos a \"CarlosApruebo\" y nos da que \"Elviracristi\" es el unico parecido entonces revisamos sus tweets con la funcion obtener_tweets_entre_usuarios()"
   ]
  },
  {
   "cell_type": "code",
   "execution_count": 79,
   "metadata": {},
   "outputs": [
    {
     "data": {
      "text/html": [
       "<style type=\"text/css\">\n",
       "</style>\n",
       "<table id=\"T_27d7c\" style='display:inline'>\n",
       "  <caption>CarlosApruebo</caption>\n",
       "  <thead>\n",
       "    <tr>\n",
       "      <th class=\"blank level0\" >&nbsp;</th>\n",
       "      <th id=\"T_27d7c_level0_col0\" class=\"col_heading level0 col0\" >Tweets</th>\n",
       "    </tr>\n",
       "  </thead>\n",
       "  <tbody>\n",
       "    <tr>\n",
       "      <th id=\"T_27d7c_level0_row0\" class=\"row_heading level0 row0\" >0</th>\n",
       "      <td id=\"T_27d7c_row0_col0\" class=\"data row0 col0\" >#AprueboDeSalida \n",
       "#Apruebo4deSeptiembre</td>\n",
       "    </tr>\n",
       "    <tr>\n",
       "      <th id=\"T_27d7c_level0_row1\" class=\"row_heading level0 row1\" >1</th>\n",
       "      <td id=\"T_27d7c_row1_col0\" class=\"data row1 col0\" >#AprueboNuevaConstitucion \n",
       "#Apruebo4deSeptiembre</td>\n",
       "    </tr>\n",
       "    <tr>\n",
       "      <th id=\"T_27d7c_level0_row2\" class=\"row_heading level0 row2\" >2</th>\n",
       "      <td id=\"T_27d7c_row2_col0\" class=\"data row2 col0\" >#Apruebo4deSeptiembre \n",
       "#AprueboPlebicitoDeSalida</td>\n",
       "    </tr>\n",
       "    <tr>\n",
       "      <th id=\"T_27d7c_level0_row3\" class=\"row_heading level0 row3\" >3</th>\n",
       "      <td id=\"T_27d7c_row3_col0\" class=\"data row3 col0\" >@Jaime_Bassa Abrazo @Jaime_Bassa ✊️</td>\n",
       "    </tr>\n",
       "    <tr>\n",
       "      <th id=\"T_27d7c_level0_row4\" class=\"row_heading level0 row4\" >4</th>\n",
       "      <td id=\"T_27d7c_row4_col0\" class=\"data row4 col0\" >No lo hará \n",
       "Aprobaremos,  Venceremos y Será Hermoso ✊🏻 \n",
       "#AprueboPlebicitoDeSalida \n",
       "#AprueboNuevaConstitucion</td>\n",
       "    </tr>\n",
       "    <tr>\n",
       "      <th id=\"T_27d7c_level0_row5\" class=\"row_heading level0 row5\" >5</th>\n",
       "      <td id=\"T_27d7c_row5_col0\" class=\"data row5 col0\" >#Apruebo4deSeptiembre \n",
       "#AprueboPlebicitoDeSalida</td>\n",
       "    </tr>\n",
       "  </tbody>\n",
       "</table>\n",
       "<style type=\"text/css\">\n",
       "</style>\n",
       "<table id=\"T_0a532\" style='display:inline'>\n",
       "  <caption>Elviracristi</caption>\n",
       "  <thead>\n",
       "    <tr>\n",
       "      <th class=\"blank level0\" >&nbsp;</th>\n",
       "      <th id=\"T_0a532_level0_col0\" class=\"col_heading level0 col0\" >Tweets</th>\n",
       "    </tr>\n",
       "  </thead>\n",
       "  <tbody>\n",
       "    <tr>\n",
       "      <th id=\"T_0a532_level0_row0\" class=\"row_heading level0 row0\" >0</th>\n",
       "      <td id=\"T_0a532_row0_col0\" class=\"data row0 col0\" >#AprueboDeSalida  🙏🏻</td>\n",
       "    </tr>\n",
       "    <tr>\n",
       "      <th id=\"T_0a532_level0_row1\" class=\"row_heading level0 row1\" >1</th>\n",
       "      <td id=\"T_0a532_row1_col0\" class=\"data row1 col0\" >#AprueboPlebicitoDeSalida #Apruebo4deSeptiembre</td>\n",
       "    </tr>\n",
       "    <tr>\n",
       "      <th id=\"T_0a532_level0_row2\" class=\"row_heading level0 row2\" >2</th>\n",
       "      <td id=\"T_0a532_row2_col0\" class=\"data row2 col0\" >#Apruebo4deSeptiembre #Apruebo #NuevaConstitucion</td>\n",
       "    </tr>\n",
       "    <tr>\n",
       "      <th id=\"T_0a532_level0_row3\" class=\"row_heading level0 row3\" >3</th>\n",
       "      <td id=\"T_0a532_row3_col0\" class=\"data row3 col0\" >#AprueboDeSalida #Apruebo4deSeptiembre</td>\n",
       "    </tr>\n",
       "  </tbody>\n",
       "</table>\n"
      ]
     },
     "metadata": {},
     "output_type": "display_data"
    }
   ],
   "source": [
    "dataframes1 = obtener_tweets_entre_usuarios('CarlosApruebo', 'Elviracristi')"
   ]
  },
  {
   "attachments": {},
   "cell_type": "markdown",
   "metadata": {},
   "source": [
    "##### Como se puede ver, los 2 usuarios comparten los mismos hashtag en varios de sus tweets lo que lleva a que sean similares al momento de escribir tweets"
   ]
  },
  {
   "attachments": {},
   "cell_type": "markdown",
   "metadata": {},
   "source": [
    "#### 2."
   ]
  },
  {
   "cell_type": "code",
   "execution_count": 80,
   "metadata": {},
   "outputs": [
    {
     "data": {
      "text/plain": [
       "['acont77', 'lorenzuela']"
      ]
     },
     "execution_count": 80,
     "metadata": {},
     "output_type": "execute_result"
    }
   ],
   "source": [
    "encontrar_parecidos('Alejand32306857')"
   ]
  },
  {
   "attachments": {},
   "cell_type": "markdown",
   "metadata": {},
   "source": [
    "##### Aca vemos que \"Alejand32306857\" tiene 2 usuarios los cuales son parecidos a el, entonces revisamos sus tweets"
   ]
  },
  {
   "cell_type": "code",
   "execution_count": 81,
   "metadata": {},
   "outputs": [
    {
     "data": {
      "text/html": [
       "<style type=\"text/css\">\n",
       "</style>\n",
       "<table id=\"T_b0720\" style='display:inline'>\n",
       "  <caption>Alejand32306857</caption>\n",
       "  <thead>\n",
       "    <tr>\n",
       "      <th class=\"blank level0\" >&nbsp;</th>\n",
       "      <th id=\"T_b0720_level0_col0\" class=\"col_heading level0 col0\" >Tweets</th>\n",
       "    </tr>\n",
       "  </thead>\n",
       "  <tbody>\n",
       "    <tr>\n",
       "      <th id=\"T_b0720_level0_row0\" class=\"row_heading level0 row0\" >0</th>\n",
       "      <td id=\"T_b0720_row0_col0\" class=\"data row0 col0\" >@Jaime_Bassa @RoyoManuela Rechazo,  no representa  Chile  esta constitución,  solo favorece comunistas  y mapuches  narcos</td>\n",
       "    </tr>\n",
       "    <tr>\n",
       "      <th id=\"T_b0720_level0_row1\" class=\"row_heading level0 row1\" >1</th>\n",
       "      <td id=\"T_b0720_row1_col0\" class=\"data row1 col0\" >@24HorasTVN @convencioncl @gdominguez_ Rechazo</td>\n",
       "    </tr>\n",
       "    <tr>\n",
       "      <th id=\"T_b0720_level0_row2\" class=\"row_heading level0 row2\" >2</th>\n",
       "      <td id=\"T_b0720_row2_col0\" class=\"data row2 col0\" >@ElisaLoncon Rechazo</td>\n",
       "    </tr>\n",
       "    <tr>\n",
       "      <th id=\"T_b0720_level0_row3\" class=\"row_heading level0 row3\" >3</th>\n",
       "      <td id=\"T_b0720_row3_col0\" class=\"data row3 col0\" >@Jaime_Bassa Rechazo</td>\n",
       "    </tr>\n",
       "    <tr>\n",
       "      <th id=\"T_b0720_level0_row4\" class=\"row_heading level0 row4\" >4</th>\n",
       "      <td id=\"T_b0720_row4_col0\" class=\"data row4 col0\" >@MEQChile Rechazo</td>\n",
       "    </tr>\n",
       "  </tbody>\n",
       "</table>\n",
       "<style type=\"text/css\">\n",
       "</style>\n",
       "<table id=\"T_5a8a9\" style='display:inline'>\n",
       "  <caption>lorenzuela</caption>\n",
       "  <thead>\n",
       "    <tr>\n",
       "      <th class=\"blank level0\" >&nbsp;</th>\n",
       "      <th id=\"T_5a8a9_level0_col0\" class=\"col_heading level0 col0\" >Tweets</th>\n",
       "    </tr>\n",
       "  </thead>\n",
       "  <tbody>\n",
       "    <tr>\n",
       "      <th id=\"T_5a8a9_level0_row0\" class=\"row_heading level0 row0\" >0</th>\n",
       "      <td id=\"T_5a8a9_row0_col0\" class=\"data row0 col0\" >@MEQChile Rechazo!</td>\n",
       "    </tr>\n",
       "    <tr>\n",
       "      <th id=\"T_5a8a9_level0_row1\" class=\"row_heading level0 row1\" >1</th>\n",
       "      <td id=\"T_5a8a9_row1_col0\" class=\"data row1 col0\" >@gdominguez_ Rechazo!</td>\n",
       "    </tr>\n",
       "    <tr>\n",
       "      <th id=\"T_5a8a9_level0_row2\" class=\"row_heading level0 row2\" >2</th>\n",
       "      <td id=\"T_5a8a9_row2_col0\" class=\"data row2 col0\" >@Jaime_Bassa Rechazo!</td>\n",
       "    </tr>\n",
       "    <tr>\n",
       "      <th id=\"T_5a8a9_level0_row3\" class=\"row_heading level0 row3\" >3</th>\n",
       "      <td id=\"T_5a8a9_row3_col0\" class=\"data row3 col0\" >@MEQChile Qué bueno!! Así tengo más argumentos para rechazar!! Muchas gracias!!</td>\n",
       "    </tr>\n",
       "    <tr>\n",
       "      <th id=\"T_5a8a9_level0_row4\" class=\"row_heading level0 row4\" >4</th>\n",
       "      <td id=\"T_5a8a9_row4_col0\" class=\"data row4 col0\" >@Jaime_Bassa Rechazo!!!</td>\n",
       "    </tr>\n",
       "  </tbody>\n",
       "</table>\n"
      ]
     },
     "metadata": {},
     "output_type": "display_data"
    }
   ],
   "source": [
    "dataframes2 = obtener_tweets_entre_usuarios('Alejand32306857', 'lorenzuela')"
   ]
  },
  {
   "cell_type": "code",
   "execution_count": 82,
   "metadata": {},
   "outputs": [
    {
     "data": {
      "text/html": [
       "<style type=\"text/css\">\n",
       "</style>\n",
       "<table id=\"T_bedb2\" style='display:inline'>\n",
       "  <caption>Alejand32306857</caption>\n",
       "  <thead>\n",
       "    <tr>\n",
       "      <th class=\"blank level0\" >&nbsp;</th>\n",
       "      <th id=\"T_bedb2_level0_col0\" class=\"col_heading level0 col0\" >Tweets</th>\n",
       "    </tr>\n",
       "  </thead>\n",
       "  <tbody>\n",
       "    <tr>\n",
       "      <th id=\"T_bedb2_level0_row0\" class=\"row_heading level0 row0\" >0</th>\n",
       "      <td id=\"T_bedb2_row0_col0\" class=\"data row0 col0\" >@Jaime_Bassa @RoyoManuela Rechazo,  no representa  Chile  esta constitución,  solo favorece comunistas  y mapuches  narcos</td>\n",
       "    </tr>\n",
       "    <tr>\n",
       "      <th id=\"T_bedb2_level0_row1\" class=\"row_heading level0 row1\" >1</th>\n",
       "      <td id=\"T_bedb2_row1_col0\" class=\"data row1 col0\" >@24HorasTVN @convencioncl @gdominguez_ Rechazo</td>\n",
       "    </tr>\n",
       "    <tr>\n",
       "      <th id=\"T_bedb2_level0_row2\" class=\"row_heading level0 row2\" >2</th>\n",
       "      <td id=\"T_bedb2_row2_col0\" class=\"data row2 col0\" >@ElisaLoncon Rechazo</td>\n",
       "    </tr>\n",
       "    <tr>\n",
       "      <th id=\"T_bedb2_level0_row3\" class=\"row_heading level0 row3\" >3</th>\n",
       "      <td id=\"T_bedb2_row3_col0\" class=\"data row3 col0\" >@Jaime_Bassa Rechazo</td>\n",
       "    </tr>\n",
       "    <tr>\n",
       "      <th id=\"T_bedb2_level0_row4\" class=\"row_heading level0 row4\" >4</th>\n",
       "      <td id=\"T_bedb2_row4_col0\" class=\"data row4 col0\" >@MEQChile Rechazo</td>\n",
       "    </tr>\n",
       "  </tbody>\n",
       "</table>\n",
       "<style type=\"text/css\">\n",
       "</style>\n",
       "<table id=\"T_e6b13\" style='display:inline'>\n",
       "  <caption>acont77</caption>\n",
       "  <thead>\n",
       "    <tr>\n",
       "      <th class=\"blank level0\" >&nbsp;</th>\n",
       "      <th id=\"T_e6b13_level0_col0\" class=\"col_heading level0 col0\" >Tweets</th>\n",
       "    </tr>\n",
       "  </thead>\n",
       "  <tbody>\n",
       "    <tr>\n",
       "      <th id=\"T_e6b13_level0_row0\" class=\"row_heading level0 row0\" >0</th>\n",
       "      <td id=\"T_e6b13_row0_col0\" class=\"data row0 col0\" >@patriciapolitz Que deje de leer sus novelas, comedias, historias eroticas y se dedica a cumplir su función de presidente</td>\n",
       "    </tr>\n",
       "    <tr>\n",
       "      <th id=\"T_e6b13_level0_row1\" class=\"row_heading level0 row1\" >1</th>\n",
       "      <td id=\"T_e6b13_row1_col0\" class=\"data row1 col0\" >@PabloSrCasual @danielstingo Estas dando jugo stingo</td>\n",
       "    </tr>\n",
       "    <tr>\n",
       "      <th id=\"T_e6b13_level0_row2\" class=\"row_heading level0 row2\" >2</th>\n",
       "      <td id=\"T_e6b13_row2_col0\" class=\"data row2 col0\" >@ipoduje @danielstingo Wueon prepotente</td>\n",
       "    </tr>\n",
       "    <tr>\n",
       "      <th id=\"T_e6b13_level0_row3\" class=\"row_heading level0 row3\" >3</th>\n",
       "      <td id=\"T_e6b13_row3_col0\" class=\"data row3 col0\" >@Jaime_Bassa Rechazo!</td>\n",
       "    </tr>\n",
       "    <tr>\n",
       "      <th id=\"T_e6b13_level0_row4\" class=\"row_heading level0 row4\" >4</th>\n",
       "      <td id=\"T_e6b13_row4_col0\" class=\"data row4 col0\" >@ElisaLoncon Rechazo!!!</td>\n",
       "    </tr>\n",
       "  </tbody>\n",
       "</table>\n"
      ]
     },
     "metadata": {},
     "output_type": "display_data"
    }
   ],
   "source": [
    "dataframes2 = obtener_tweets_entre_usuarios('Alejand32306857', 'acont77')"
   ]
  },
  {
   "attachments": {},
   "cell_type": "markdown",
   "metadata": {},
   "source": [
    "##### Como podemos ver, los 2 usuarios que se parecen a \"Alejand32306857\" segun nuestro programa, tweetean las mismas ideas (sobre el rechazo en este caso) y mencionan a las mismas personas."
   ]
  },
  {
   "attachments": {},
   "cell_type": "markdown",
   "metadata": {},
   "source": [
    "## Cosas que asumimos"
   ]
  },
  {
   "attachments": {},
   "cell_type": "markdown",
   "metadata": {},
   "source": [
    "#### 1. Asumimos que los retweets no contaban como tweets originales de un usuario por lo cual no los contamos al momento de comparar tweets, esto nos disminuyo la cantidad de datos considerablemente (alrededor de 1.2 millones).\n",
    "#### 2. Concluimos que 2 usuarios son parecidos solo si estos comparten una cantidad de tweets similares que son proporcionales a la cantidad de tweets que tiene cada uno, osea una cantidad de tweets que cumplan con el porcentaje minimo.\n",
    "#### 3. Consideramos que los tweets mas cortos de 4 letras no eran relevantes por lo cual dropeamos esas filas (tambien se debe a que nuestro valor k era 4 y no se pueden sacar shingles de tamaño 4 si el tweet tiene menos de 4 caracteres), esto nos elimino varios tweets de solo emojis.\n",
    "#### 4. Los usuarios que tenian solo 1 tweet los dejamos para las comparaciones entre usuarios, pensamos filtrarlos debido a la poca información que un solo tweet entrega, pero llegamos a la conclusion de que esto quitaria una cantidad muy considerable de datos."
   ]
  },
  {
   "attachments": {},
   "cell_type": "markdown",
   "metadata": {},
   "source": [
    "## Parametros finales\n",
    "#### k = 4: Esta seria la variable que representa los k-shingles.\n",
    "#### s = 0.8: Esta seria nuestra variable que representa el threshold usado en la clase MinHashLSH para filtrar posibles parecidos.\n",
    "#### THRESHOLD = 0.35: Esta es la variable que representa el porcentaje de tweets minimos que se deben tener en comun para poder asumir que 2 usuarios son parecidos."
   ]
  }
 ],
 "metadata": {
  "kernelspec": {
   "display_name": "Python 3",
   "language": "python",
   "name": "python3"
  },
  "language_info": {
   "codemirror_mode": {
    "name": "ipython",
    "version": 3
   },
   "file_extension": ".py",
   "mimetype": "text/x-python",
   "name": "python",
   "nbconvert_exporter": "python",
   "pygments_lexer": "ipython3",
   "version": "3.8.10"
  },
  "orig_nbformat": 4
 },
 "nbformat": 4,
 "nbformat_minor": 2
}
